{
 "cells": [
  {
   "cell_type": "markdown",
   "metadata": {},
   "source": [
    "## Data pre-processing"
   ]
  },
  {
   "cell_type": "code",
   "execution_count": 1,
   "metadata": {},
   "outputs": [],
   "source": [
    "import pandas as pd\n",
    "from sklearn.preprocessing import StandardScaler, OrdinalEncoder\n",
    "from imblearn.over_sampling import BorderlineSMOTE\n",
    "from sklearn.model_selection import train_test_split"
   ]
  },
  {
   "cell_type": "code",
   "execution_count": 2,
   "metadata": {},
   "outputs": [],
   "source": [
    "path_data = \"./data/BRFSS-2015_binary.parquet\"\n",
    "df0 = pd.read_parquet(path_data)"
   ]
  },
  {
   "cell_type": "markdown",
   "metadata": {},
   "source": [
    "### Select rows"
   ]
  },
  {
   "cell_type": "code",
   "execution_count": 3,
   "metadata": {},
   "outputs": [],
   "source": [
    "# Remove age less than 30\n",
    "df = df0.copy()\n",
    "conditions = ~(df.Age.isin([1,2]))\n",
    "df = df[conditions]"
   ]
  },
  {
   "cell_type": "code",
   "execution_count": 4,
   "metadata": {},
   "outputs": [
    {
     "data": {
      "text/plain": [
       "(238501, 22)"
      ]
     },
     "execution_count": 4,
     "metadata": {},
     "output_type": "execute_result"
    }
   ],
   "source": [
    "df.shape"
   ]
  },
  {
   "cell_type": "markdown",
   "metadata": {},
   "source": [
    "### Feature engineering"
   ]
  },
  {
   "cell_type": "code",
   "execution_count": 5,
   "metadata": {},
   "outputs": [],
   "source": [
    "scaler = StandardScaler(with_std=True)\n",
    "df[\"BMI_scaled\"] = scaler.fit_transform(df[[\"BMI\"]]).flatten()\n",
    "bins = [-1, 0, 7, 14, 21, 28, 30]\n",
    "labels = ['0', '1-7', '8-14', '15-21', '22-28', '29-30']\n",
    "df[\"PhysHlth_group\"] = pd.cut(df[\"PhysHlth\"], bins=bins, labels=labels)\n",
    "df[\"MentHlth_group\"] = pd.cut(df[\"MentHlth\"], bins=bins, labels=labels)\n",
    "ordinal_encoder = OrdinalEncoder(categories=[[\"0\", \"1-7\", \"8-14\", \"15-21\", \"22-28\", \"29-30\"]])\n",
    "df[\"PhysHlth_encoded\"] = ordinal_encoder.fit_transform(df[[\"PhysHlth_group\"]])\n",
    "df[\"MentHlth_encoded\"] = ordinal_encoder.fit_transform(df[[\"MentHlth_group\"]])"
   ]
  },
  {
   "cell_type": "code",
   "execution_count": 6,
   "metadata": {},
   "outputs": [],
   "source": [
    "df = df.drop(columns=[\"BMI\", \"MentHlth\", \"PhysHlth\", \"PhysHlth_group\", \"MentHlth_group\"])"
   ]
  },
  {
   "cell_type": "code",
   "execution_count": 7,
   "metadata": {},
   "outputs": [
    {
     "data": {
      "text/plain": [
       "Index(['Diabetes_binary', 'HighBP', 'HighChol', 'CholCheck', 'Smoker',\n",
       "       'Stroke', 'HeartDiseaseorAttack', 'PhysActivity', 'Fruits', 'Veggies',\n",
       "       'HvyAlcoholConsump', 'AnyHealthcare', 'NoDocbcCost', 'GenHlth',\n",
       "       'DiffWalk', 'Sex', 'Age', 'Education', 'Income', 'BMI_scaled',\n",
       "       'PhysHlth_encoded', 'MentHlth_encoded'],\n",
       "      dtype='object')"
      ]
     },
     "execution_count": 7,
     "metadata": {},
     "output_type": "execute_result"
    }
   ],
   "source": [
    "df.columns"
   ]
  },
  {
   "cell_type": "markdown",
   "metadata": {},
   "source": [
    "### Save data"
   ]
  },
  {
   "cell_type": "code",
   "execution_count": 8,
   "metadata": {},
   "outputs": [],
   "source": [
    "df.to_parquet(\"./data/BRFSS-2015_binary_clean.parquet\")"
   ]
  },
  {
   "cell_type": "markdown",
   "metadata": {},
   "source": [
    "### Data partition"
   ]
  },
  {
   "cell_type": "code",
   "execution_count": 9,
   "metadata": {},
   "outputs": [],
   "source": [
    "X = df.iloc[:, 1:]\n",
    "y = df.iloc[:,0]\n",
    "X_train, X_temp, y_train, y_temp = train_test_split(X, y, test_size=0.3, random_state=42, stratify=y)\n",
    "X_val, X_test, y_val, y_test = train_test_split(X_temp, y_temp, test_size=0.5, random_state=42, stratify=y_temp)"
   ]
  },
  {
   "cell_type": "code",
   "execution_count": 10,
   "metadata": {},
   "outputs": [
    {
     "name": "stdout",
     "output_type": "stream",
     "text": [
      "Training set: (166950, 21), (166950,)\n",
      "Validation set: (35775, 21), (35775,)\n",
      "Test set: (35776, 21), (35776,)\n"
     ]
    }
   ],
   "source": [
    "print(f\"Training set: {X_train.shape}, {y_train.shape}\")\n",
    "print(f\"Validation set: {X_val.shape}, {y_val.shape}\")\n",
    "print(f\"Test set: {X_test.shape}, {y_test.shape}\")"
   ]
  },
  {
   "cell_type": "markdown",
   "metadata": {},
   "source": [
    "### Borderline SMOTE"
   ]
  },
  {
   "cell_type": "code",
   "execution_count": 11,
   "metadata": {},
   "outputs": [],
   "source": [
    "borderline_smote = BorderlineSMOTE(random_state=42, k_neighbors=5, m_neighbors=10)\n",
    "X_train_resampled, y_train_resampled = borderline_smote.fit_resample(X_train, y_train)"
   ]
  },
  {
   "cell_type": "code",
   "execution_count": 12,
   "metadata": {},
   "outputs": [
    {
     "name": "stdout",
     "output_type": "stream",
     "text": [
      "Original class distribution:\n",
      "Diabetes_binary\n",
      "0.0    139171\n",
      "1.0     27779\n",
      "Name: count, dtype: int64\n",
      "\n",
      "Class distribution after Borderline SMOTE:\n",
      "Diabetes_binary\n",
      "0.0    139171\n",
      "1.0    139171\n",
      "Name: count, dtype: int64\n"
     ]
    }
   ],
   "source": [
    "print(\"Original class distribution:\")\n",
    "print(y_train.value_counts())\n",
    "print(\"\\nClass distribution after Borderline SMOTE:\")\n",
    "print(pd.Series(y_train_resampled).value_counts())"
   ]
  },
  {
   "cell_type": "markdown",
   "metadata": {},
   "source": [
    "### Export data for modelling"
   ]
  },
  {
   "cell_type": "code",
   "execution_count": 15,
   "metadata": {},
   "outputs": [],
   "source": [
    "df_train_resampled = X_train_resampled.copy()\n",
    "df_train_resampled.insert(0, y.name, y_train_resampled)\n",
    "df_train_resampled.to_parquet(\"./data/data_train_borderline_smote.parquet\")\n",
    "\n",
    "df_val = X_val.copy()\n",
    "df_val.insert(0, y.name, y_val)\n",
    "df_val.to_parquet(\"./data/data_val.parquet\")\n",
    "\n",
    "df_test = X_test.copy()\n",
    "df_test.insert(0, y.name, y_test)\n",
    "df_test.to_parquet(\"./data/data_test.parquet\")"
   ]
  }
 ],
 "metadata": {
  "kernelspec": {
   "display_name": "venv",
   "language": "python",
   "name": "python3"
  },
  "language_info": {
   "codemirror_mode": {
    "name": "ipython",
    "version": 3
   },
   "file_extension": ".py",
   "mimetype": "text/x-python",
   "name": "python",
   "nbconvert_exporter": "python",
   "pygments_lexer": "ipython3",
   "version": "3.9.6"
  }
 },
 "nbformat": 4,
 "nbformat_minor": 2
}
