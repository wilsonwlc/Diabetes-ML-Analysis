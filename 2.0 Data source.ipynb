{
 "cells": [
  {
   "cell_type": "markdown",
   "metadata": {},
   "source": [
    "### Background\n",
    "* The dataset from [UCI Machine Learning Repository](https://archive.ics.uci.edu/dataset/891/cdc+diabetes+health+indicators) has a main problem. The data does not specify the type of diabetes, whether it's type 1 or type 2. [This notebook](https://www.kaggle.com/code/alexteboul/diabetes-health-indicators-dataset-notebook) shows how the data provider cleaned the data."
   ]
  },
  {
   "cell_type": "markdown",
   "metadata": {},
   "source": [
    "### Purpose\n",
    "* Prevent the loss of information due to down-sampling\n",
    "* Exclude the cases due to pregnancy instead of considering them as no diabetes\n",
    "* Consider pre-diabetes to diabetes as positive cases. This is because the data provider considered no diabetes and pre-diabetes as 1 group. This contradicted to the description of dataset. "
   ]
  },
  {
   "cell_type": "markdown",
   "metadata": {},
   "source": [
    "### Import packages"
   ]
  },
  {
   "cell_type": "code",
   "execution_count": 1,
   "metadata": {},
   "outputs": [],
   "source": [
    "import pandas as pd"
   ]
  },
  {
   "cell_type": "markdown",
   "metadata": {},
   "source": [
    "### Import data"
   ]
  },
  {
   "cell_type": "code",
   "execution_count": 2,
   "metadata": {},
   "outputs": [],
   "source": [
    "df0 = pd.read_csv(\"./hide/raw data/BRFSS-2015.csv\")"
   ]
  },
  {
   "cell_type": "markdown",
   "metadata": {},
   "source": [
    "### Select columns"
   ]
  },
  {
   "cell_type": "code",
   "execution_count": 3,
   "metadata": {},
   "outputs": [],
   "source": [
    "columns = ['DIABETE3', '_RFHYPE5', 'TOLDHI2', '_CHOLCHK', '_BMI5', 'SMOKE100', 'CVDSTRK3', '_MICHD', '_TOTINDA', '_FRTLT1', '_VEGLT1', '_RFDRHV5', 'HLTHPLN1', 'MEDCOST', 'GENHLTH', 'MENTHLTH', 'PHYSHLTH', 'DIFFWALK', 'SEX', '_AGEG5YR', 'EDUCA', 'INCOME2']\n",
    "df = df0[columns]"
   ]
  },
  {
   "cell_type": "code",
   "execution_count": 4,
   "metadata": {},
   "outputs": [
    {
     "data": {
      "text/plain": [
       "(441456, 22)"
      ]
     },
     "execution_count": 4,
     "metadata": {},
     "output_type": "execute_result"
    }
   ],
   "source": [
    "df.shape"
   ]
  },
  {
   "cell_type": "markdown",
   "metadata": {},
   "source": [
    "### Select rows"
   ]
  },
  {
   "cell_type": "code",
   "execution_count": 5,
   "metadata": {},
   "outputs": [],
   "source": [
    "# condition = ~(df.DIABETE3.isin([7,9])) & ~(df._RFHYPE5.isin([9])) & ~(df.TOLDHI2.isin([7,9])) & ~(df._CHOLCHK.isin([9])) &~(df.SMOKE100.isin([7,9])) & ~(df.CVDSTRK3.isin([7,9])) & ~(df._TOTINDA.isin([9])) &  ~(df._FRTLT1.isin([9])) & ~(df._VEGLT1.isin([9])) & ~(df._RFDRHV5.isin([9])) & ~(df.HLTHPLN1.isin([7,9])) &  ~(df.MEDCOST.isin([7,9])) & ~(df.GENHLTH.isin([7,9])) & ~(df.MENTHLTH.isin([77,99])) & ~(df.PHYSHLTH.isin([77,99])) & ~(df.DIFFWALK.isin([7,9])) & ~(df._AGEG5YR.isin([14])) & ~(df.EDUCA.isin([9])) & ~(df.INCOME2.isin([77,99]))  # check the data provider\n",
    "condition = ~(df.DIABETE3.isin([2,7,9])) & ~(df._RFHYPE5.isin([9])) & ~(df.TOLDHI2.isin([7,9])) & ~(df._CHOLCHK.isin([9])) &~(df.SMOKE100.isin([7,9])) & ~(df.CVDSTRK3.isin([7,9])) & ~(df._TOTINDA.isin([9])) &  ~(df._FRTLT1.isin([9])) & ~(df._VEGLT1.isin([9])) & ~(df._RFDRHV5.isin([9])) & ~(df.HLTHPLN1.isin([7,9])) &  ~(df.MEDCOST.isin([7,9])) & ~(df.GENHLTH.isin([7,9])) & ~(df.MENTHLTH.isin([77,99])) & ~(df.PHYSHLTH.isin([77,99])) & ~(df.DIFFWALK.isin([7,9])) & ~(df._AGEG5YR.isin([14])) & ~(df.EDUCA.isin([9])) & ~(df.INCOME2.isin([77,99]))\n",
    "df = df[condition]"
   ]
  },
  {
   "cell_type": "code",
   "execution_count": 6,
   "metadata": {},
   "outputs": [],
   "source": [
    "# df.DIABETE3 = df.DIABETE3.replace({2:0, 3:0, 1:2, 4:1}) # check the data provider\n",
    "df.DIABETE3 = df.DIABETE3.replace({3:0, 4:1, 1:2})\n",
    "df._RFHYPE5 = df._RFHYPE5.replace({1:0, 2:1})\n",
    "df.TOLDHI2 = df.TOLDHI2.replace({2:0})\n",
    "df._CHOLCHK = df._CHOLCHK.replace({3:0,2:0})\n",
    "df._BMI5 = df._BMI5.div(100).round(0)\n",
    "df.SMOKE100 = df.SMOKE100.replace({2:0})\n",
    "df.CVDSTRK3 = df.CVDSTRK3.replace({2:0})\n",
    "df._MICHD = df._MICHD.replace({2:0})\n",
    "df._TOTINDA = df._TOTINDA.replace({2:0})\n",
    "df._FRTLT1 = df._FRTLT1.replace({2:0})\n",
    "df._VEGLT1 = df._VEGLT1.replace({2:0})\n",
    "df._RFDRHV5 = df._RFDRHV5.replace({1:0, 2:1})\n",
    "df.HLTHPLN1 = df.HLTHPLN1.replace({2:0})\n",
    "df.MEDCOST = df.MEDCOST.replace({2:0})\n",
    "df.MENTHLTH = df.MENTHLTH.replace({88:0})\n",
    "df.PHYSHLTH = df.PHYSHLTH.replace({88:0})\n",
    "df.DIFFWALK = df.DIFFWALK.replace({2:0})\n",
    "df.SEX = df.SEX.replace({2:0})"
   ]
  },
  {
   "cell_type": "code",
   "execution_count": 7,
   "metadata": {},
   "outputs": [
    {
     "data": {
      "text/plain": [
       "(294938, 22)"
      ]
     },
     "execution_count": 7,
     "metadata": {},
     "output_type": "execute_result"
    }
   ],
   "source": [
    "df.shape"
   ]
  },
  {
   "cell_type": "code",
   "execution_count": 8,
   "metadata": {},
   "outputs": [
    {
     "data": {
      "text/plain": [
       "DIABETE3\n",
       "0.0    251882\n",
       "2.0     37955\n",
       "1.0      5098\n",
       "NaN         3\n",
       "Name: count, dtype: int64"
      ]
     },
     "execution_count": 8,
     "metadata": {},
     "output_type": "execute_result"
    }
   ],
   "source": [
    "df.DIABETE3.value_counts(dropna=False)"
   ]
  },
  {
   "cell_type": "markdown",
   "metadata": {},
   "source": [
    "### Create Binary Dataset for diabetes vs. no diabetes"
   ]
  },
  {
   "cell_type": "code",
   "execution_count": 9,
   "metadata": {},
   "outputs": [
    {
     "name": "stdout",
     "output_type": "stream",
     "text": [
      "After removing missing records:\n",
      "DIABETE3\n",
      "0.0    211725\n",
      "2.0     35346\n",
      "1.0      4631\n",
      "Name: count, dtype: int64\n",
      "After further grouping pre-diabetes and diabetes:\n"
     ]
    },
    {
     "data": {
      "text/plain": [
       "DIABETE3\n",
       "0.0    211725\n",
       "1.0     39977\n",
       "Name: count, dtype: int64"
      ]
     },
     "execution_count": 9,
     "metadata": {},
     "output_type": "execute_result"
    }
   ],
   "source": [
    "df_binary = df.copy()\n",
    "df_binary = df_binary.dropna()\n",
    "print(\"After removing missing records:\")\n",
    "print(df_binary.DIABETE3.value_counts(dropna=False))\n",
    "df_binary.DIABETE3 = df_binary.DIABETE3.replace({2:1})\n",
    "print(\"After further grouping pre-diabetes and diabetes:\")\n",
    "df_binary.DIABETE3.value_counts(dropna=False)"
   ]
  },
  {
   "cell_type": "markdown",
   "metadata": {},
   "source": [
    "#### Rename columns"
   ]
  },
  {
   "cell_type": "code",
   "execution_count": 10,
   "metadata": {},
   "outputs": [],
   "source": [
    "column_name = {'DIABETE3':'Diabetes_binary', \n",
    "               '_RFHYPE5':'HighBP',  \n",
    "               'TOLDHI2':'HighChol', \n",
    "               '_CHOLCHK':'CholCheck', \n",
    "               '_BMI5':'BMI', \n",
    "               'SMOKE100':'Smoker', \n",
    "               'CVDSTRK3':'Stroke', \n",
    "               '_MICHD':'HeartDiseaseorAttack', \n",
    "               '_TOTINDA':'PhysActivity', \n",
    "               '_FRTLT1':'Fruits', \n",
    "               '_VEGLT1':\"Veggies\", \n",
    "               '_RFDRHV5':'HvyAlcoholConsump', \n",
    "               'HLTHPLN1':'AnyHealthcare', \n",
    "               'MEDCOST':'NoDocbcCost', \n",
    "               'GENHLTH':'GenHlth', \n",
    "               'MENTHLTH':'MentHlth',\n",
    "               'PHYSHLTH':'PhysHlth', \n",
    "               'DIFFWALK':'DiffWalk', \n",
    "               'SEX':'Sex', \n",
    "               '_AGEG5YR':'Age', \n",
    "               'EDUCA': 'Education',\n",
    "               'INCOME2':'Income'}\n",
    "df_binary = df_binary.rename(columns = column_name)"
   ]
  },
  {
   "cell_type": "markdown",
   "metadata": {},
   "source": [
    "### Export data"
   ]
  },
  {
   "cell_type": "code",
   "execution_count": 11,
   "metadata": {},
   "outputs": [],
   "source": [
    "df_binary.to_csv(\"./data/BRFSS-2015_binary.csv\", index=False)"
   ]
  }
 ],
 "metadata": {
  "kernelspec": {
   "display_name": "venv",
   "language": "python",
   "name": "python3"
  },
  "language_info": {
   "codemirror_mode": {
    "name": "ipython",
    "version": 3
   },
   "file_extension": ".py",
   "mimetype": "text/x-python",
   "name": "python",
   "nbconvert_exporter": "python",
   "pygments_lexer": "ipython3",
   "version": "3.9.6"
  }
 },
 "nbformat": 4,
 "nbformat_minor": 2
}
